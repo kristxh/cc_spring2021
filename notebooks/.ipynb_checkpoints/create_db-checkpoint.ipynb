{
 "cells": [
  {
   "cell_type": "code",
   "execution_count": 1,
   "metadata": {},
   "outputs": [],
   "source": [
    "#import libraries\n",
    "import pandas as pd\n",
    "import numpy as np\n",
    "import json\n",
    "from sqlalchemy import create_engine\n",
    "from sklearn.model_selection import train_test_split\n",
    "from sklearn.preprocessing import StandardScaler\n",
    "from sklearn.linear_model import LinearRegression\n",
    "from sklearn.metrics import mean_squared_error\n",
    "import pickle"
   ]
  },
  {
   "cell_type": "code",
   "execution_count": 2,
   "metadata": {},
   "outputs": [],
   "source": [
    "#import vehicle dataset\n",
    "clean_df = pd.read_csv('data/out.csv') "
   ]
  },
  {
   "cell_type": "code",
   "execution_count": 3,
   "metadata": {},
   "outputs": [],
   "source": [
    "#copy data to car_df\n",
    "car_df = clean_df.copy()"
   ]
  },
  {
   "cell_type": "code",
   "execution_count": 4,
   "metadata": {},
   "outputs": [],
   "source": [
    "#Drop the columns that we will not be using to build models.\n",
    "car_df = car_df.drop(columns=['model', 'posting_date'])"
   ]
  },
  {
   "cell_type": "code",
   "execution_count": 5,
   "metadata": {},
   "outputs": [
    {
     "name": "stdout",
     "output_type": "stream",
     "text": [
      "<class 'pandas.core.frame.DataFrame'>\n",
      "RangeIndex: 137526 entries, 0 to 137525\n",
      "Data columns (total 15 columns):\n",
      " #   Column            Non-Null Count   Dtype  \n",
      "---  ------            --------------   -----  \n",
      " 0   price             137526 non-null  int64  \n",
      " 1   manufacturer      137526 non-null  object \n",
      " 2   cylinders         137526 non-null  int64  \n",
      " 3   fuel              137526 non-null  object \n",
      " 4   odometer          137526 non-null  float64\n",
      " 5   title_status      137526 non-null  object \n",
      " 6   state             137526 non-null  object \n",
      " 7   price_range       137526 non-null  object \n",
      " 8   drive_new         137526 non-null  object \n",
      " 9   condition_new     137526 non-null  object \n",
      " 10  transmission_new  137526 non-null  object \n",
      " 11  type_new          137526 non-null  object \n",
      " 12  paint_color_new   137526 non-null  object \n",
      " 13  car_Age_in_yrs    137526 non-null  float64\n",
      " 14  price_range_int   137526 non-null  int64  \n",
      "dtypes: float64(2), int64(3), object(10)\n",
      "memory usage: 15.7+ MB\n"
     ]
    }
   ],
   "source": [
    "#convert price range to integers 1 - 7\n",
    "car_df['price_range_int'] = car_df['price_range'].replace(to_replace=['<1K', '1K-5K', '5K-10K','10K-15K','15k-30K','30K-50K','>50K'], value=[1, 2, 3, 4, 5, 6, 7], inplace=False)\n",
    "car_df.info()"
   ]
  },
  {
   "cell_type": "code",
   "execution_count": 6,
   "metadata": {},
   "outputs": [],
   "source": [
    "#copy tx records to a new df\n",
    "tx_df = car_df[car_df['state'] == 'tx']"
   ]
  },
  {
   "cell_type": "code",
   "execution_count": 7,
   "metadata": {},
   "outputs": [
    {
     "data": {
      "text/plain": [
       "15k-30K    1900\n",
       "5K-10K     1529\n",
       "1K-5K      1224\n",
       "10K-15K    1078\n",
       "30K-50K     764\n",
       "<1K         135\n",
       ">50K         19\n",
       "Name: price_range, dtype: int64"
      ]
     },
     "execution_count": 7,
     "metadata": {},
     "output_type": "execute_result"
    }
   ],
   "source": [
    "#check that all categories are represented\n",
    "tx_df['price_range'].value_counts()"
   ]
  },
  {
   "cell_type": "code",
   "execution_count": 8,
   "metadata": {},
   "outputs": [
    {
     "data": {
      "text/plain": [
       "ford             1205\n",
       "chevrolet        1091\n",
       "toyota            588\n",
       "nissan            458\n",
       "honda             318\n",
       "gmc               298\n",
       "ram               289\n",
       "dodge             246\n",
       "jeep              234\n",
       "bmw               210\n",
       "volkswagen        191\n",
       "hyundai           189\n",
       "mercedes-benz     138\n",
       "kia               123\n",
       "lexus             118\n",
       "cadillac           96\n",
       "subaru             91\n",
       "infiniti           86\n",
       "buick              83\n",
       "chrysler           82\n",
       "mazda              78\n",
       "mitsubishi         50\n",
       "lincoln            50\n",
       "audi               47\n",
       "acura              46\n",
       "volvo              45\n",
       "mini               40\n",
       "rover              35\n",
       "pontiac            32\n",
       "mercury            26\n",
       "fiat               23\n",
       "porsche            16\n",
       "jaguar             14\n",
       "saturn             11\n",
       "alfa-romeo          2\n",
       "Name: manufacturer, dtype: int64"
      ]
     },
     "execution_count": 8,
     "metadata": {},
     "output_type": "execute_result"
    }
   ],
   "source": [
    "#check manufacturers\n",
    "tx_df['manufacturer'].value_counts()"
   ]
  },
  {
   "cell_type": "code",
   "execution_count": 9,
   "metadata": {},
   "outputs": [
    {
     "data": {
      "text/plain": [
       "15k-30K    79\n",
       "30K-50K    54\n",
       "5K-10K     47\n",
       "10K-15K    42\n",
       "1K-5K      25\n",
       "<1K         2\n",
       ">50K        1\n",
       "Name: price_range, dtype: int64"
      ]
     },
     "execution_count": 9,
     "metadata": {},
     "output_type": "execute_result"
    }
   ],
   "source": [
    "#sample 100 records\n",
    "tx_df250 = tx_df.sample(n=250, weights='price_range_int', random_state=42)\n",
    "tx_df250['price_range'].value_counts()"
   ]
  },
  {
   "cell_type": "code",
   "execution_count": 10,
   "metadata": {},
   "outputs": [],
   "source": [
    "#export to json for documentdb\n",
    "tx_df250.to_json(r'car_samples.json', orient='records')"
   ]
  },
  {
   "cell_type": "code",
   "execution_count": 11,
   "metadata": {},
   "outputs": [
    {
     "name": "stdout",
     "output_type": "stream",
     "text": [
      "2021-02-24 16:03:46,518 INFO sqlalchemy.engine.base.Engine SELECT CAST('test plain returns' AS VARCHAR(60)) AS anon_1\n",
      "2021-02-24 16:03:46,519 INFO sqlalchemy.engine.base.Engine ()\n",
      "2021-02-24 16:03:46,521 INFO sqlalchemy.engine.base.Engine SELECT CAST('test unicode returns' AS VARCHAR(60)) AS anon_1\n",
      "2021-02-24 16:03:46,522 INFO sqlalchemy.engine.base.Engine ()\n"
     ]
    }
   ],
   "source": [
    "#set up engine to export to sql lite\n",
    "engine = create_engine('sqlite:///car_samples.db', echo=True)\n",
    "sqlite_connection = engine.connect()"
   ]
  },
  {
   "cell_type": "code",
   "execution_count": 12,
   "metadata": {},
   "outputs": [],
   "source": [
    "#export to sql\n",
    "sqlite_table = \"cars\""
   ]
  },
  {
   "cell_type": "code",
   "execution_count": 20,
   "metadata": {},
   "outputs": [
    {
     "name": "stdout",
     "output_type": "stream",
     "text": [
      "2021-02-23 21:05:23,174 INFO sqlalchemy.engine.base.Engine PRAGMA main.table_info(\"cars\")\n",
      "2021-02-23 21:05:23,175 INFO sqlalchemy.engine.base.Engine ()\n",
      "2021-02-23 21:05:23,179 INFO sqlalchemy.engine.base.Engine PRAGMA temp.table_info(\"cars\")\n",
      "2021-02-23 21:05:23,181 INFO sqlalchemy.engine.base.Engine ()\n",
      "2021-02-23 21:05:23,187 INFO sqlalchemy.engine.base.Engine \n",
      "CREATE TABLE cars (\n",
      "\t\"index\" BIGINT, \n",
      "\tprice BIGINT, \n",
      "\tmanufacturer TEXT, \n",
      "\tcylinders BIGINT, \n",
      "\tfuel TEXT, \n",
      "\todometer FLOAT, \n",
      "\ttitle_status TEXT, \n",
      "\tstate TEXT, \n",
      "\tprice_range TEXT, \n",
      "\tdrive_new TEXT, \n",
      "\tcondition_new TEXT, \n",
      "\ttransmission_new TEXT, \n",
      "\ttype_new TEXT, \n",
      "\tpaint_color_new TEXT, \n",
      "\t\"car_Age_in_yrs\" FLOAT, \n",
      "\tprice_range_int BIGINT\n",
      ")\n",
      "\n",
      "\n",
      "2021-02-23 21:05:23,189 INFO sqlalchemy.engine.base.Engine ()\n",
      "2021-02-23 21:05:23,212 INFO sqlalchemy.engine.base.Engine COMMIT\n",
      "2021-02-23 21:05:23,215 INFO sqlalchemy.engine.base.Engine CREATE INDEX ix_cars_index ON cars (\"index\")\n",
      "2021-02-23 21:05:23,217 INFO sqlalchemy.engine.base.Engine ()\n",
      "2021-02-23 21:05:23,232 INFO sqlalchemy.engine.base.Engine COMMIT\n",
      "2021-02-23 21:05:23,237 INFO sqlalchemy.engine.base.Engine BEGIN (implicit)\n",
      "2021-02-23 21:05:23,249 INFO sqlalchemy.engine.base.Engine INSERT INTO cars (\"index\", price, manufacturer, cylinders, fuel, odometer, title_status, state, price_range, drive_new, condition_new, transmission_new, type_new, paint_color_new, \"car_Age_in_yrs\", price_range_int) VALUES (?, ?, ?, ?, ?, ?, ?, ?, ?, ?, ?, ?, ?, ?, ?, ?)\n",
      "2021-02-23 21:05:23,251 INFO sqlalchemy.engine.base.Engine ((114835, 10995, 'chevrolet', 8, 'gas', 218132.0, 'clean', 'tx', '10K-15K', 'rwd', 'good_fair', 'Automatic', 'van', 'BlSlvrWhGryMsng', 3.0, 4), (118686, 10998, 'kia', 4, 'gas', 48502.0, 'clean', 'tx', '10K-15K', 'fwd', 'excellent_likenew', 'Automatic', 'sedan', 'BluRdBrwn', 4.0, 4), (117352, 27990, 'ram', 6, 'other', 27241.0, 'clean', 'tx', '15k-30K', '4wd', 'good_fair', 'Other', 'pickup_truck', 'BluRdBrwn', 3.0, 5), (116406, 33990, 'ford', 8, 'gas', 18175.0, 'clean', 'tx', '30K-50K', 'fwd', 'good_fair', 'Automatic', 'pickup_truck', 'BluRdBrwn', 4.0, 6), (113365, 14990, 'ford', 6, 'other', 85662.0, 'clean', 'tx', '10K-15K', 'fwd', 'good_fair', 'Other', 'pickup_truck', 'BlSlvrWhGryMsng', 9.0, 4), (113364, 2995, 'chevrolet', 8, 'gas', 17300.0, 'clean', 'tx', '1K-5K', 'rwd', 'good_fair', 'Automatic', 'crossover', 'BluRdBrwn', 17.0, 2), (112724, 5995, 'infiniti', 6, 'gas', 168503.0, 'clean', 'tx', '5K-10K', 'rwd', 'excellent_likenew', 'Automatic', 'sedan', 'BlSlvrWhGryMsng', 14.0, 3), (118199, 32000, 'infiniti', 8, 'gas', 116113.0, 'clean', 'tx', '30K-50K', '4wd', 'excellent_likenew', 'Automatic', 'crossover', 'BlSlvrWhGryMsng', 4.0, 6)  ... displaying 10 of 250 total bound parameter sets ...  (114927, 6000, 'fiat', 4, 'gas', 68000.0, 'clean', 'tx', '5K-10K', 'fwd', 'excellent_likenew', 'Manual', 'coupe', 'BluRdBrwn', 5.0, 3), (118100, 34990, 'chevrolet', 4, 'gas', 10396.0, 'clean', 'tx', '30K-50K', 'fwd', 'good_fair', 'Other', 'pickup_truck', 'BlSlvrWhGryMsng', 1.0, 6))\n",
      "2021-02-23 21:05:23,256 INFO sqlalchemy.engine.base.Engine COMMIT\n"
     ]
    }
   ],
   "source": [
    "tx_df250.to_sql(sqlite_table, sqlite_connection, if_exists='fail')"
   ]
  },
  {
   "cell_type": "code",
   "execution_count": 13,
   "metadata": {},
   "outputs": [],
   "source": [
    "#close the connection\n",
    "sqlite_connection.close()"
   ]
  },
  {
   "cell_type": "code",
   "execution_count": 14,
   "metadata": {},
   "outputs": [],
   "source": [
    "#create a dataset from the remaining TX samples\n",
    "#drop all columns except manufacturer, age, and odometer\n",
    "test_mdl = tx_df[['manufacturer', 'car_Age_in_yrs', 'odometer','price']].copy()"
   ]
  },
  {
   "cell_type": "code",
   "execution_count": 15,
   "metadata": {},
   "outputs": [
    {
     "data": {
      "text/html": [
       "<div>\n",
       "<style scoped>\n",
       "    .dataframe tbody tr th:only-of-type {\n",
       "        vertical-align: middle;\n",
       "    }\n",
       "\n",
       "    .dataframe tbody tr th {\n",
       "        vertical-align: top;\n",
       "    }\n",
       "\n",
       "    .dataframe thead th {\n",
       "        text-align: right;\n",
       "    }\n",
       "</style>\n",
       "<table border=\"1\" class=\"dataframe\">\n",
       "  <thead>\n",
       "    <tr style=\"text-align: right;\">\n",
       "      <th></th>\n",
       "      <th>manufacturer</th>\n",
       "      <th>car_Age_in_yrs</th>\n",
       "      <th>odometer</th>\n",
       "      <th>price</th>\n",
       "    </tr>\n",
       "  </thead>\n",
       "  <tbody>\n",
       "    <tr>\n",
       "      <th>112329</th>\n",
       "      <td>mazda</td>\n",
       "      <td>13.0</td>\n",
       "      <td>151300.0</td>\n",
       "      <td>2895</td>\n",
       "    </tr>\n",
       "    <tr>\n",
       "      <th>112330</th>\n",
       "      <td>honda</td>\n",
       "      <td>7.0</td>\n",
       "      <td>64370.0</td>\n",
       "      <td>8100</td>\n",
       "    </tr>\n",
       "    <tr>\n",
       "      <th>112331</th>\n",
       "      <td>gmc</td>\n",
       "      <td>11.0</td>\n",
       "      <td>52800.0</td>\n",
       "      <td>15000</td>\n",
       "    </tr>\n",
       "    <tr>\n",
       "      <th>112332</th>\n",
       "      <td>honda</td>\n",
       "      <td>12.0</td>\n",
       "      <td>179000.0</td>\n",
       "      <td>3995</td>\n",
       "    </tr>\n",
       "    <tr>\n",
       "      <th>112333</th>\n",
       "      <td>ford</td>\n",
       "      <td>17.0</td>\n",
       "      <td>75900.0</td>\n",
       "      <td>5900</td>\n",
       "    </tr>\n",
       "  </tbody>\n",
       "</table>\n",
       "</div>"
      ],
      "text/plain": [
       "       manufacturer  car_Age_in_yrs  odometer  price\n",
       "112329        mazda            13.0  151300.0   2895\n",
       "112330        honda             7.0   64370.0   8100\n",
       "112331          gmc            11.0   52800.0  15000\n",
       "112332        honda            12.0  179000.0   3995\n",
       "112333         ford            17.0   75900.0   5900"
      ]
     },
     "execution_count": 15,
     "metadata": {},
     "output_type": "execute_result"
    }
   ],
   "source": [
    "test_mdl.head()"
   ]
  },
  {
   "cell_type": "code",
   "execution_count": 16,
   "metadata": {},
   "outputs": [
    {
     "name": "stdout",
     "output_type": "stream",
     "text": [
      "<class 'pandas.core.frame.DataFrame'>\n",
      "Int64Index: 6649 entries, 112329 to 137291\n",
      "Data columns (total 37 columns):\n",
      " #   Column                      Non-Null Count  Dtype  \n",
      "---  ------                      --------------  -----  \n",
      " 0   car_Age_in_yrs              6649 non-null   float64\n",
      " 1   odometer                    6649 non-null   float64\n",
      " 2   price                       6649 non-null   int64  \n",
      " 3   manufacturer_alfa-romeo     6649 non-null   uint8  \n",
      " 4   manufacturer_audi           6649 non-null   uint8  \n",
      " 5   manufacturer_bmw            6649 non-null   uint8  \n",
      " 6   manufacturer_buick          6649 non-null   uint8  \n",
      " 7   manufacturer_cadillac       6649 non-null   uint8  \n",
      " 8   manufacturer_chevrolet      6649 non-null   uint8  \n",
      " 9   manufacturer_chrysler       6649 non-null   uint8  \n",
      " 10  manufacturer_dodge          6649 non-null   uint8  \n",
      " 11  manufacturer_fiat           6649 non-null   uint8  \n",
      " 12  manufacturer_ford           6649 non-null   uint8  \n",
      " 13  manufacturer_gmc            6649 non-null   uint8  \n",
      " 14  manufacturer_honda          6649 non-null   uint8  \n",
      " 15  manufacturer_hyundai        6649 non-null   uint8  \n",
      " 16  manufacturer_infiniti       6649 non-null   uint8  \n",
      " 17  manufacturer_jaguar         6649 non-null   uint8  \n",
      " 18  manufacturer_jeep           6649 non-null   uint8  \n",
      " 19  manufacturer_kia            6649 non-null   uint8  \n",
      " 20  manufacturer_lexus          6649 non-null   uint8  \n",
      " 21  manufacturer_lincoln        6649 non-null   uint8  \n",
      " 22  manufacturer_mazda          6649 non-null   uint8  \n",
      " 23  manufacturer_mercedes-benz  6649 non-null   uint8  \n",
      " 24  manufacturer_mercury        6649 non-null   uint8  \n",
      " 25  manufacturer_mini           6649 non-null   uint8  \n",
      " 26  manufacturer_mitsubishi     6649 non-null   uint8  \n",
      " 27  manufacturer_nissan         6649 non-null   uint8  \n",
      " 28  manufacturer_pontiac        6649 non-null   uint8  \n",
      " 29  manufacturer_porsche        6649 non-null   uint8  \n",
      " 30  manufacturer_ram            6649 non-null   uint8  \n",
      " 31  manufacturer_rover          6649 non-null   uint8  \n",
      " 32  manufacturer_saturn         6649 non-null   uint8  \n",
      " 33  manufacturer_subaru         6649 non-null   uint8  \n",
      " 34  manufacturer_toyota         6649 non-null   uint8  \n",
      " 35  manufacturer_volkswagen     6649 non-null   uint8  \n",
      " 36  manufacturer_volvo          6649 non-null   uint8  \n",
      "dtypes: float64(2), int64(1), uint8(34)\n",
      "memory usage: 428.5 KB\n"
     ]
    }
   ],
   "source": [
    "#one hot encode\n",
    "test_mdl_ohe = pd.get_dummies(test_mdl[['manufacturer', 'car_Age_in_yrs', 'odometer','price']], drop_first=True)\n",
    "test_mdl_ohe.info()"
   ]
  },
  {
   "cell_type": "code",
   "execution_count": 17,
   "metadata": {},
   "outputs": [],
   "source": [
    "#set X and y\n",
    "y = test_mdl_ohe['price'].values.reshape(-1, 1)\n",
    "del test_mdl_ohe['price']\n",
    "X = test_mdl_ohe.values"
   ]
  },
  {
   "cell_type": "code",
   "execution_count": 18,
   "metadata": {},
   "outputs": [
    {
     "name": "stdout",
     "output_type": "stream",
     "text": [
      "6649\n",
      "6649\n"
     ]
    }
   ],
   "source": [
    "#check X and y\n",
    "print(len(X))\n",
    "print(len(y))"
   ]
  },
  {
   "cell_type": "code",
   "execution_count": 19,
   "metadata": {},
   "outputs": [],
   "source": [
    "#split into a test/train\n",
    "X_train, X_test, y_train, y_test = train_test_split(X, y, random_state=42)"
   ]
  },
  {
   "cell_type": "code",
   "execution_count": 20,
   "metadata": {},
   "outputs": [],
   "source": [
    "#scale X\n",
    "X_scaler = StandardScaler().fit(X_train)\n",
    "y_scaler = StandardScaler().fit(y_train)\n",
    "\n",
    "X_train_sc = X_scaler.transform(X_train)\n",
    "X_test_sc = X_scaler.transform(X_test)\n",
    "y_train_sc = y_scaler.transform(y_train)\n",
    "y_test_sc = y_scaler.transform(y_test)"
   ]
  },
  {
   "cell_type": "code",
   "execution_count": 21,
   "metadata": {},
   "outputs": [
    {
     "data": {
      "text/plain": [
       "LinearRegression()"
      ]
     },
     "execution_count": 21,
     "metadata": {},
     "output_type": "execute_result"
    }
   ],
   "source": [
    "#linear regression model\n",
    "model = LinearRegression()\n",
    "model.fit(X_train_sc, y_train_sc)"
   ]
  },
  {
   "cell_type": "code",
   "execution_count": 22,
   "metadata": {},
   "outputs": [
    {
     "name": "stdout",
     "output_type": "stream",
     "text": [
      "MSE: 0.5153958841708131, R2: 0.44934814730399286\n"
     ]
    }
   ],
   "source": [
    "#get mse\n",
    "predictions = model.predict(X_test_sc)\n",
    "MSE = mean_squared_error(y_test_sc, predictions)\n",
    "r2 = model.score(X_test_sc, y_test_sc)\n",
    "\n",
    "print(f\"MSE: {MSE}, R2: {r2}\")"
   ]
  },
  {
   "cell_type": "code",
   "execution_count": 23,
   "metadata": {},
   "outputs": [
    {
     "name": "stderr",
     "output_type": "stream",
     "text": [
      "C:\\Users\\Kristi\\Anaconda3\\envs\\ml\\lib\\site-packages\\sklearn\\utils\\validation.py:72: FutureWarning: Beginning in version 0.22, arrays of bytes/strings will be converted to decimal numbers if dtype='numeric'. It is recommended that you convert the array to a float dtype before using it in scikit-learn, for example by using your_array = your_array.astype(np.float64).\n",
      "  return f(**kwargs)\n"
     ]
    },
    {
     "ename": "ValueError",
     "evalue": "matmul: Input operand 1 has a mismatch in its core dimension 0, with gufunc signature (n?,k),(k,m?)->(n?,m?) (size 36 is different from 1)",
     "output_type": "error",
     "traceback": [
      "\u001b[1;31m---------------------------------------------------------------------------\u001b[0m",
      "\u001b[1;31mValueError\u001b[0m                                Traceback (most recent call last)",
      "\u001b[1;32m<ipython-input-23-86adfca7c785>\u001b[0m in \u001b[0;36m<module>\u001b[1;34m\u001b[0m\n\u001b[0;32m      1\u001b[0m \u001b[1;31m#make a new prediction - need to figure out how to call the model with a manufacturerabs\u001b[0m\u001b[1;33m\u001b[0m\u001b[1;33m\u001b[0m\u001b[1;33m\u001b[0m\u001b[0m\n\u001b[0;32m      2\u001b[0m \u001b[0mnew_pred\u001b[0m \u001b[1;33m=\u001b[0m \u001b[0mnp\u001b[0m\u001b[1;33m.\u001b[0m\u001b[0marray\u001b[0m\u001b[1;33m(\u001b[0m\u001b[1;33m[\u001b[0m\u001b[1;34m'manufacturer_honda'\u001b[0m\u001b[1;33m,\u001b[0m \u001b[1;36m14\u001b[0m\u001b[1;33m,\u001b[0m \u001b[1;36m129000\u001b[0m\u001b[1;33m]\u001b[0m\u001b[1;33m)\u001b[0m\u001b[1;33m.\u001b[0m\u001b[0mreshape\u001b[0m\u001b[1;33m(\u001b[0m\u001b[1;33m(\u001b[0m\u001b[1;33m-\u001b[0m\u001b[1;36m1\u001b[0m\u001b[1;33m,\u001b[0m \u001b[1;36m1\u001b[0m\u001b[1;33m)\u001b[0m\u001b[1;33m)\u001b[0m\u001b[1;33m\u001b[0m\u001b[1;33m\u001b[0m\u001b[0m\n\u001b[1;32m----> 3\u001b[1;33m \u001b[0my_pred\u001b[0m \u001b[1;33m=\u001b[0m \u001b[0mmodel\u001b[0m\u001b[1;33m.\u001b[0m\u001b[0mpredict\u001b[0m\u001b[1;33m(\u001b[0m\u001b[0mnew_pred\u001b[0m\u001b[1;33m)\u001b[0m\u001b[1;33m\u001b[0m\u001b[1;33m\u001b[0m\u001b[0m\n\u001b[0m\u001b[0;32m      4\u001b[0m \u001b[1;31m#new_pred.shape\u001b[0m\u001b[1;33m\u001b[0m\u001b[1;33m\u001b[0m\u001b[1;33m\u001b[0m\u001b[0m\n",
      "\u001b[1;32m~\\Anaconda3\\envs\\ml\\lib\\site-packages\\sklearn\\linear_model\\_base.py\u001b[0m in \u001b[0;36mpredict\u001b[1;34m(self, X)\u001b[0m\n\u001b[0;32m    234\u001b[0m             \u001b[0mReturns\u001b[0m \u001b[0mpredicted\u001b[0m \u001b[0mvalues\u001b[0m\u001b[1;33m.\u001b[0m\u001b[1;33m\u001b[0m\u001b[1;33m\u001b[0m\u001b[0m\n\u001b[0;32m    235\u001b[0m         \"\"\"\n\u001b[1;32m--> 236\u001b[1;33m         \u001b[1;32mreturn\u001b[0m \u001b[0mself\u001b[0m\u001b[1;33m.\u001b[0m\u001b[0m_decision_function\u001b[0m\u001b[1;33m(\u001b[0m\u001b[0mX\u001b[0m\u001b[1;33m)\u001b[0m\u001b[1;33m\u001b[0m\u001b[1;33m\u001b[0m\u001b[0m\n\u001b[0m\u001b[0;32m    237\u001b[0m \u001b[1;33m\u001b[0m\u001b[0m\n\u001b[0;32m    238\u001b[0m     \u001b[0m_preprocess_data\u001b[0m \u001b[1;33m=\u001b[0m \u001b[0mstaticmethod\u001b[0m\u001b[1;33m(\u001b[0m\u001b[0m_preprocess_data\u001b[0m\u001b[1;33m)\u001b[0m\u001b[1;33m\u001b[0m\u001b[1;33m\u001b[0m\u001b[0m\n",
      "\u001b[1;32m~\\Anaconda3\\envs\\ml\\lib\\site-packages\\sklearn\\linear_model\\_base.py\u001b[0m in \u001b[0;36m_decision_function\u001b[1;34m(self, X)\u001b[0m\n\u001b[0;32m    218\u001b[0m         \u001b[0mX\u001b[0m \u001b[1;33m=\u001b[0m \u001b[0mcheck_array\u001b[0m\u001b[1;33m(\u001b[0m\u001b[0mX\u001b[0m\u001b[1;33m,\u001b[0m \u001b[0maccept_sparse\u001b[0m\u001b[1;33m=\u001b[0m\u001b[1;33m[\u001b[0m\u001b[1;34m'csr'\u001b[0m\u001b[1;33m,\u001b[0m \u001b[1;34m'csc'\u001b[0m\u001b[1;33m,\u001b[0m \u001b[1;34m'coo'\u001b[0m\u001b[1;33m]\u001b[0m\u001b[1;33m)\u001b[0m\u001b[1;33m\u001b[0m\u001b[1;33m\u001b[0m\u001b[0m\n\u001b[0;32m    219\u001b[0m         return safe_sparse_dot(X, self.coef_.T,\n\u001b[1;32m--> 220\u001b[1;33m                                dense_output=True) + self.intercept_\n\u001b[0m\u001b[0;32m    221\u001b[0m \u001b[1;33m\u001b[0m\u001b[0m\n\u001b[0;32m    222\u001b[0m     \u001b[1;32mdef\u001b[0m \u001b[0mpredict\u001b[0m\u001b[1;33m(\u001b[0m\u001b[0mself\u001b[0m\u001b[1;33m,\u001b[0m \u001b[0mX\u001b[0m\u001b[1;33m)\u001b[0m\u001b[1;33m:\u001b[0m\u001b[1;33m\u001b[0m\u001b[1;33m\u001b[0m\u001b[0m\n",
      "\u001b[1;32m~\\Anaconda3\\envs\\ml\\lib\\site-packages\\sklearn\\utils\\validation.py\u001b[0m in \u001b[0;36minner_f\u001b[1;34m(*args, **kwargs)\u001b[0m\n\u001b[0;32m     70\u001b[0m                           FutureWarning)\n\u001b[0;32m     71\u001b[0m         \u001b[0mkwargs\u001b[0m\u001b[1;33m.\u001b[0m\u001b[0mupdate\u001b[0m\u001b[1;33m(\u001b[0m\u001b[1;33m{\u001b[0m\u001b[0mk\u001b[0m\u001b[1;33m:\u001b[0m \u001b[0marg\u001b[0m \u001b[1;32mfor\u001b[0m \u001b[0mk\u001b[0m\u001b[1;33m,\u001b[0m \u001b[0marg\u001b[0m \u001b[1;32min\u001b[0m \u001b[0mzip\u001b[0m\u001b[1;33m(\u001b[0m\u001b[0msig\u001b[0m\u001b[1;33m.\u001b[0m\u001b[0mparameters\u001b[0m\u001b[1;33m,\u001b[0m \u001b[0margs\u001b[0m\u001b[1;33m)\u001b[0m\u001b[1;33m}\u001b[0m\u001b[1;33m)\u001b[0m\u001b[1;33m\u001b[0m\u001b[1;33m\u001b[0m\u001b[0m\n\u001b[1;32m---> 72\u001b[1;33m         \u001b[1;32mreturn\u001b[0m \u001b[0mf\u001b[0m\u001b[1;33m(\u001b[0m\u001b[1;33m**\u001b[0m\u001b[0mkwargs\u001b[0m\u001b[1;33m)\u001b[0m\u001b[1;33m\u001b[0m\u001b[1;33m\u001b[0m\u001b[0m\n\u001b[0m\u001b[0;32m     73\u001b[0m     \u001b[1;32mreturn\u001b[0m \u001b[0minner_f\u001b[0m\u001b[1;33m\u001b[0m\u001b[1;33m\u001b[0m\u001b[0m\n\u001b[0;32m     74\u001b[0m \u001b[1;33m\u001b[0m\u001b[0m\n",
      "\u001b[1;32m~\\Anaconda3\\envs\\ml\\lib\\site-packages\\sklearn\\utils\\extmath.py\u001b[0m in \u001b[0;36msafe_sparse_dot\u001b[1;34m(a, b, dense_output)\u001b[0m\n\u001b[0;32m    151\u001b[0m             \u001b[0mret\u001b[0m \u001b[1;33m=\u001b[0m \u001b[0mnp\u001b[0m\u001b[1;33m.\u001b[0m\u001b[0mdot\u001b[0m\u001b[1;33m(\u001b[0m\u001b[0ma\u001b[0m\u001b[1;33m,\u001b[0m \u001b[0mb\u001b[0m\u001b[1;33m)\u001b[0m\u001b[1;33m\u001b[0m\u001b[1;33m\u001b[0m\u001b[0m\n\u001b[0;32m    152\u001b[0m     \u001b[1;32melse\u001b[0m\u001b[1;33m:\u001b[0m\u001b[1;33m\u001b[0m\u001b[1;33m\u001b[0m\u001b[0m\n\u001b[1;32m--> 153\u001b[1;33m         \u001b[0mret\u001b[0m \u001b[1;33m=\u001b[0m \u001b[0ma\u001b[0m \u001b[1;33m@\u001b[0m \u001b[0mb\u001b[0m\u001b[1;33m\u001b[0m\u001b[1;33m\u001b[0m\u001b[0m\n\u001b[0m\u001b[0;32m    154\u001b[0m \u001b[1;33m\u001b[0m\u001b[0m\n\u001b[0;32m    155\u001b[0m     if (sparse.issparse(a) and sparse.issparse(b)\n",
      "\u001b[1;31mValueError\u001b[0m: matmul: Input operand 1 has a mismatch in its core dimension 0, with gufunc signature (n?,k),(k,m?)->(n?,m?) (size 36 is different from 1)"
     ]
    }
   ],
   "source": [
    "#make a new prediction - need to figure out how to call the model with a manufacturerabs\n",
    "new_pred = np.array(['manufacturer_honda', 14, 129000]).reshape((-1, 1))\n",
    "y_pred = model.predict(new_pred)\n",
    "#new_pred.shape"
   ]
  },
  {
   "cell_type": "code",
   "execution_count": 24,
   "metadata": {},
   "outputs": [],
   "source": [
    "#simplified\n",
    "#create a dataset from the remaining TX samples\n",
    "#drop all columns except manufacturer, age, and odometer\n",
    "test_mdl = tx_df[['car_Age_in_yrs', 'odometer','price']].copy()\n",
    "y = test_mdl['price'].values.reshape(-1, 1)\n",
    "del test_mdl['price']\n",
    "X = test_mdl.values"
   ]
  },
  {
   "cell_type": "code",
   "execution_count": 25,
   "metadata": {},
   "outputs": [],
   "source": [
    "#split into a test/train\n",
    "X_train, X_test, y_train, y_test = train_test_split(X, y, random_state=42)\n",
    "\n",
    "#scale X\n",
    "X_scaler = StandardScaler().fit(X_train)\n",
    "y_scaler = StandardScaler().fit(y_train)\n",
    "\n",
    "X_train_sc = X_scaler.transform(X_train)\n",
    "X_test_sc = X_scaler.transform(X_test)\n",
    "y_train_sc = y_scaler.transform(y_train)\n",
    "y_test_sc = y_scaler.transform(y_test)"
   ]
  },
  {
   "cell_type": "code",
   "execution_count": 26,
   "metadata": {},
   "outputs": [
    {
     "data": {
      "text/plain": [
       "LinearRegression()"
      ]
     },
     "execution_count": 26,
     "metadata": {},
     "output_type": "execute_result"
    }
   ],
   "source": [
    "#linear regression model\n",
    "model = LinearRegression()\n",
    "model.fit(X_train_sc, y_train_sc)"
   ]
  },
  {
   "cell_type": "code",
   "execution_count": 27,
   "metadata": {},
   "outputs": [
    {
     "name": "stdout",
     "output_type": "stream",
     "text": [
      "0.33942668610367543\n",
      "0.3267412649608039\n"
     ]
    }
   ],
   "source": [
    "training_score = model.score(X_train_sc, y_train_sc)\n",
    "testing_score = model.score(X_test_sc, y_test_sc)\n",
    "print(training_score)\n",
    "print(testing_score)"
   ]
  },
  {
   "cell_type": "code",
   "execution_count": 28,
   "metadata": {},
   "outputs": [
    {
     "data": {
      "text/plain": [
       "0.6301527531821663"
      ]
     },
     "execution_count": 28,
     "metadata": {},
     "output_type": "execute_result"
    }
   ],
   "source": [
    "mean_squared_error(y_test_sc, model.predict(X_test_sc))"
   ]
  },
  {
   "cell_type": "code",
   "execution_count": 29,
   "metadata": {},
   "outputs": [
    {
     "data": {
      "text/plain": [
       "array([[-44927.2977506]])"
      ]
     },
     "execution_count": 29,
     "metadata": {},
     "output_type": "execute_result"
    }
   ],
   "source": [
    "#make a new prediction \n",
    "new_pred = np.array([14, 129000]).reshape((1, -1))\n",
    "y_pred = model.predict(new_pred)\n",
    "y_pred"
   ]
  },
  {
   "cell_type": "code",
   "execution_count": 30,
   "metadata": {},
   "outputs": [],
   "source": [
    "# Save the mode\n",
    "filename = '../web/static/ml_model/lr.pkl'\n",
    "pickle.dump(model, open(filename, 'wb'))"
   ]
  },
  {
   "cell_type": "code",
   "execution_count": 31,
   "metadata": {},
   "outputs": [
    {
     "name": "stdout",
     "output_type": "stream",
     "text": [
      "[[-44927.2977506]]\n"
     ]
    }
   ],
   "source": [
    "# Load model and make a prediction\n",
    "model = pickle.load(open('../web/static/ml_model/lr.pkl','rb'))\n",
    "prediction = model.predict(new_pred)\n",
    "print(prediction)"
   ]
  },
  {
   "cell_type": "code",
   "execution_count": 34,
   "metadata": {},
   "outputs": [
    {
     "name": "stdout",
     "output_type": "stream",
     "text": [
      "-44927.3\n"
     ]
    }
   ],
   "source": [
    "prediction_list = np.array(prediction).tolist()\n",
    "prediction_value = round(prediction_list[0][0],1)\n",
    "print(prediction_value)"
   ]
  }
 ],
 "metadata": {
  "kernelspec": {
   "display_name": "Python 3",
   "language": "python",
   "name": "python3"
  },
  "language_info": {
   "codemirror_mode": {
    "name": "ipython",
    "version": 3
   },
   "file_extension": ".py",
   "mimetype": "text/x-python",
   "name": "python",
   "nbconvert_exporter": "python",
   "pygments_lexer": "ipython3",
   "version": "3.8.5"
  }
 },
 "nbformat": 4,
 "nbformat_minor": 4
}
